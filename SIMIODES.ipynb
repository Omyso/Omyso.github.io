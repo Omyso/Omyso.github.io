{
  "cells": [
    {
      "cell_type": "raw",
      "id": "7fb3318b",
      "metadata": {},
      "source": [
        "---\n",
        "title: 'SCUDEM - Throw The Bike Or Throw The Race '\n",
        "---"
      ]
    },
    {
      "cell_type": "markdown",
      "id": "35316083",
      "metadata": {},
      "source": [
        "{{< video https://www.youtube.com/embed/ayXb5HI_fiQ >}}\n",
        "\n",
        "\n",
        "\n",
        "This is my partner's and my submission for the competition SCUDEM - SIMIODE Challenge Using Differential Equations Modeling (<https://qubeshub.org/community/groups/scudem>). The problem statement can be found below, but the general goal was to create a physics-based differential equation model that could properly determine the ideal moment to perform a [bike throw](<https://www.bicycling.com/training/a20017965/how-to-outsprint-the-competition-with-a-bike-throw/>) in a race. The video above describes our approach for creating the differential equation as well at the answer to the questions posed in the problem statement.\n",
        "\n",
        "## Code\n"
      ]
    },
    {
      "cell_type": "code",
      "execution_count": 1,
      "id": "c7009f00",
      "metadata": {},
      "outputs": [
        {
          "data": {
            "image/png": "[encoded data removed]",
            "text/plain": [
              "<Figure size 432x288 with 1 Axes>"
            ]
          },
          "metadata": {
            "needs_background": "light"
          },
          "output_type": "display_data"
        }
      ],
      "source": [
        "from numpy import *\n",
        "from numpy import array\n",
        "from pylab import *\n",
        "\n",
        "x=0\n",
        "vr=float(input(\"Enter the velocity of rider after the throw: \"))\n",
        "vx=11*12-10*vr\n",
        "y_0=array([x,vx])\n",
        "\n",
        "def RK2(f,a,b,y0,step):\n",
        "    t=linspace(a,b,step)  #set t as array from a to be with steps\n",
        "    h=t[1]-t[0] #step size\n",
        "    Y=[y0] #set Y as initial conditions\n",
        "    N=len(t)\n",
        "    n=0\n",
        "    y=y0\n",
        "    while n<=N-2 :\n",
        "        y_rk2=y+h*0.5*f(y,t[n])    \n",
        "        y=y+h*f(y_rk2,t[n]+h*0.5)\n",
        "        Y.append(y)\n",
        "        n=n+1    #midpoint method , repeat for every steps\n",
        "    Y=array(Y)\n",
        "    return Y,t\n",
        "\n",
        "def throw(y,t):\n",
        "    m=77\n",
        "    rho=1.23\n",
        "    cd=0.88\n",
        "    A=0.36\n",
        "    g=9.8\n",
        "    ck=0.004\n",
        "    a=(-1*rho*cd*A/(2*m))*((y[1])**2)-(g*ck)  #DE equation\n",
        "    v=y[1]\n",
        "    f=array([v,a])\n",
        "    return f\n",
        "\n",
        "def nonthrow(t):\n",
        "    y=12*t  \n",
        "    return y\n",
        "\n",
        "\n",
        "a=RK2(throw,0,1,y_0,1000)   #number of step is 1000 between 0s to 1s\n",
        "X=a[0][:,0]\n",
        "t=a[1]\n",
        "plot(t,X)\n",
        "axis([0, 0.2, 0, 1])\n",
        "X2=nonthrow(t)\n",
        "plot(t,X2,'-')\n",
        "\n",
        "legend(['Throw','Nonthrow'])\n",
        "xlabel('t')\n",
        "ylabel('x')\n",
        "title ('problem 2')\n",
        "show()"
      ]
    },
    {
      "cell_type": "markdown",
      "id": "f7acdff7",
      "metadata": {},
      "source": [
        "## Problem Statement\n",
        "\n",
        "In the 2021 Brabantse Pijl Dames bicycle race, sprinter Demi Vollering was leading the race but\n",
        "lost when Ruth Winder came from behind at the last moment[1,2]. Demi Vollering begun to\n",
        "celebrate too soon when Ruth Winder pushed her bike forward (known as a “bike throw” [3]),\n",
        "her front wheel crossed the finish line millimeters ahead of Vollering’s wheel. The finish of the\n",
        "race was so close that most people, including Winder, assumed that Vollering won. It was not\n",
        "until after the official finish line records were reviewed that Winder was declared the winner.\n",
        "\n",
        "The source of confusion was described by a reporter, Mikkel Conde, who said, “I'm trying to\n",
        "wrap my head around how it's possible to be ahead right before the line, lose on the line and then\n",
        "immediately be ahead again right after the line.” [1] In this case the “line” consists of two wide\n",
        "white lines on either side of the official finish line. From photographs taken by press officials\n",
        "Vollering appeared to be ahead at the start of the first white line and ahead at the end of the\n",
        "second white line. At the official finish line between them, though, Winder was ahead.\n",
        "\n",
        "This example highlights how important the bike throw can be at the finish of a bike race. The\n",
        "question your team should explore through use of a mathematical model is to determine just\n",
        "how precise the timing must be for the bike throw to be effective. When should a rider stop\n",
        "pedaling and shift her weight backwards to thrust the bike forward? What is the best position for\n",
        "the cyclist and what are the trade-offs for a more precarious hand position that might provide\n",
        "more movement at the expense of less control? Also, what is the time interval that a professional\n",
        "cyclist must exploit for this move to be effective? Additionally, what is the maximum amount of\n",
        "time that can be made up? You should keep in mind that professional cyclists are moving at a\n",
        "speed where friction can be considerable which may impact the timing when the rider should\n",
        "stop pedaling and thrust the bicycle forward"
      ]
    }
  ],
  "metadata": {
    "kernelspec": {
      "display_name": "Python 3",
      "language": "python",
      "name": "python3"
    },
    "language_info": {
      "codemirror_mode": {
        "name": "ipython",
        "version": 3
      },
      "file_extension": ".py",
      "mimetype": "text/x-python",
      "name": "python",
      "nbconvert_exporter": "python",
      "pygments_lexer": "ipython3",
      "version": "3.9.4"
    },
    "vscode": {
      "interpreter": {
        "hash": "bb2128b3d185f5274e77d3fa62ab69908813b62b6f06a8f407590f379f8d0f3f"
      }
    }
  },
  "nbformat": 4,
  "nbformat_minor": 5
}
